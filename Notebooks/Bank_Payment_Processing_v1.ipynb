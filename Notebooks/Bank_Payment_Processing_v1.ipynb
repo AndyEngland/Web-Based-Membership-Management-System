{
 "cells": [
  {
   "cell_type": "markdown",
   "id": "49ea1be8",
   "metadata": {},
   "source": [
    "# 🏦 Web-Based Membership Management System\n",
    "\n",
    "\n",
    "This notebook processes bank statements and matches transactions to members in the database. It follows these steps:\n",
    "\n",
    "1. **Setup**: Import libraries and configure Django environment\n",
    "2. **Data Loading**: Load and validate bank statement data\n",
    "3. **Processing**: Clean and standardize transaction data\n",
    "4. **Matching**: Link transactions to members using prioritized matching\n",
    "5. **Export**: Save results to Excel files\n",
    "\n",
    "## Dependencies\n",
    "- Django\n",
    "- pandas\n",
    "- numpy\n",
    "- xlsxwriter\n",
    "- ipywidgets"
   ]
  },
  {
   "cell_type": "code",
   "execution_count": 1,
   "id": "d7898fa7",
   "metadata": {},
   "outputs": [
    {
     "name": "stdout",
     "output_type": "stream",
     "text": [
      "✅ Django environment set up successfully\n",
      "✅ Connected to database: members\n",
      "✅ Project directory: C:/Work/active_projects/web-based-membership-management-system\n",
      "✅ Input directory: C:/Work/active_projects/web-based-membership-management-system\\data_input\n",
      "✅ Output directory: C:/Work/active_projects/web-based-membership-management-system\\data_output\n",
      "📊 Database contains 2049 members and 0 payment records\n"
     ]
    }
   ],
   "source": [
    "# Setup: Import Django models and configure the environment\n",
    "\n",
    "\n",
    "# Import necessary libraries\n",
    "import os\n",
    "import sys\n",
    "import pandas as pd\n",
    "import numpy as np\n",
    "import re\n",
    "from datetime import datetime\n",
    "from decimal import Decimal\n",
    "import matplotlib.pyplot as plt\n",
    "import ipywidgets as widgets\n",
    "from IPython.display import display, HTML\n",
    "import warnings\n",
    "import threading\n",
    "import django\n",
    "\n",
    "# Required for Excel export with formatting\n",
    "try:\n",
    "    import xlsxwriter\n",
    "except ImportError:\n",
    "    print(\"⚠️ xlsxwriter module not found. Installing...\")\n",
    "    import pip\n",
    "    pip.main(['install', 'xlsxwriter'])\n",
    "    import xlsxwriter\n",
    "    print(\"✅ xlsxwriter installed successfully\")\n",
    "\n",
    "\n",
    "\n",
    "# Helper function for threading (moved up from the helper cell)\n",
    "def run_in_thread(func):\n",
    "    \"\"\"Execute a function in a thread to avoid async issues with Django\"\"\"\n",
    "    import threading\n",
    "    result = []\n",
    "    error = []\n",
    "    \n",
    "    def wrapped_func():\n",
    "        try:\n",
    "            result.append(func())\n",
    "        except Exception as e:\n",
    "            error.append(e)\n",
    "    \n",
    "    thread = threading.Thread(target=wrapped_func)\n",
    "    thread.start()\n",
    "    thread.join()\n",
    "    \n",
    "    if error:\n",
    "        raise error[0]\n",
    "    \n",
    "    return result[0] if result else None\n",
    "\n",
    "# Add project directory to path and set up Django\n",
    "project_dir = r'C:/Work/active_projects/web-based-membership-management-system'\n",
    "if project_dir not in sys.path:\n",
    "    sys.path.append(project_dir)\n",
    "os.environ.setdefault('DJANGO_SETTINGS_MODULE', 'yzer_membership.settings')\n",
    "django.setup()\n",
    "\n",
    "# Import Django models and query tools\n",
    "from members.models import Member, PaymentRecord, BankStatementImport\n",
    "from django.db.models import Q\n",
    "\n",
    "print(\"✅ Django environment set up successfully\")\n",
    "print(f\"✅ Connected to database: {Member._meta.app_config.name}\")\n",
    "print(f\"✅ Project directory: {project_dir}\")\n",
    "print(f\"✅ Input directory: {os.path.join(project_dir, 'data_input')}\")\n",
    "print(f\"✅ Output directory: {os.path.join(project_dir, 'data_output')}\")\n",
    "\n",
    "# For demo purposes, display a count of members in the database using a thread\n",
    "def get_counts():\n",
    "    return (\n",
    "        Member.objects.count(),\n",
    "        PaymentRecord.objects.count()\n",
    "    )\n",
    "\n",
    "member_count, payment_count = run_in_thread(get_counts)\n",
    "print(f\"📊 Database contains {member_count} members and {payment_count} payment records\")\n",
    "\n",
    "# --- File and column settings for loading bank statement ---\n",
    "file_path = r'C:/Work/active_projects/web-based-membership-management-system/data_input/statement-08-240-533-6 Feb-July.xlsx'\n",
    "sheet = 'Sheet1'  # Sheet name as provided\n",
    "date_col = 'Date'  # Column name for transaction date\n",
    "type_col = 'Type'  # Column name for transaction type\n",
    "description_col = 'Description'  # Column name for transaction description\n",
    "amount_col = 'Amount'  # Column name for transaction amount\n",
    "min_amount = 50.0  # Minimum amount filter"
   ]
  },
  {
   "cell_type": "markdown",
   "id": "8219e075",
   "metadata": {},
   "source": [
    "## Utility Functions\n",
    "\n",
    "The following cell contains utility functions for data processing and member matching."
   ]
  },
  {
   "cell_type": "code",
   "execution_count": 2,
   "id": "ac632565",
   "metadata": {},
   "outputs": [
    {
     "name": "stdout",
     "output_type": "stream",
     "text": [
      "✅ Utility and matching functions cell completed OK\n"
     ]
    }
   ],
   "source": [
    "# Utility functions for data processing and member matching\n",
    "from typing import Optional, List, Dict, Any\n",
    "from decimal import Decimal\n",
    "import pandas as pd\n",
    "import re\n",
    "from django.db.models import Q\n",
    "from fuzzywuzzy import fuzz\n",
    "\n",
    "def clean_amount(amount_str: Any) -> Decimal:\n",
    "    \"\"\"Convert amount to Decimal\"\"\"\n",
    "    if pd.isna(amount_str) or amount_str is None or amount_str == \"\":\n",
    "        return Decimal('0.00')\n",
    "    if isinstance(amount_str, (int, float)):\n",
    "        return Decimal(str(amount_str))\n",
    "    cleaned = re.sub(r'[R\\s,]', '', str(amount_str))\n",
    "    try:\n",
    "        return Decimal(cleaned)\n",
    "    except Exception as e:\n",
    "        return Decimal('0.00')\n",
    "\n",
    "class MemberMatcher:\n",
    "    \"\"\"Class to handle member matching logic with caching\"\"\"\n",
    "    \n",
    "    def __init__(self):\n",
    "        self.member_cache = {}\n",
    "        self.status_priority = {'paid_up_member': 1, 'unpaid_member': 2}\n",
    "    \n",
    "    def normalize_name(self, text: str) -> str:\n",
    "        \"\"\"Normalize a name for comparison\"\"\"\n",
    "        if not text:\n",
    "            return \"\"\n",
    "        text = text.lower()\n",
    "        text = text.split(',')[0]\n",
    "        text = re.sub(r'[^a-z0-9\\s]', '', text)\n",
    "        text = re.sub(r'\\s+', ' ', text).strip()\n",
    "        return text\n",
    "    \n",
    "    def get_members(self) -> List[Dict]:\n",
    "        \"\"\"Get all members from database with caching\"\"\"\n",
    "        if not self.member_cache:\n",
    "            members = run_in_thread(lambda: list(Member.objects.all().values(\n",
    "                \"id\", \"first_name\", \"last_name\", \"membership_status\", \"email\"\n",
    "            )))\n",
    "            members = [m for m in members if m.get('first_name') and m.get('last_name')]\n",
    "            self.member_cache = {m['id']: m for m in members}\n",
    "        return list(self.member_cache.values())\n",
    "    \n",
    "    def match_transaction(self, txn_desc: str) -> Optional[Dict]:\n",
    "        \"\"\"Match a transaction description to a member\"\"\"\n",
    "        txn_desc = self.normalize_name(txn_desc)\n",
    "        best_match = None\n",
    "        best_score = 0\n",
    "        \n",
    "        # First try direct last name matches\n",
    "        for member in self.get_members():\n",
    "            last_name = self.normalize_name(member['last_name'])\n",
    "            first_name = self.normalize_name(member['first_name'])\n",
    "            \n",
    "            # Try exact last name match first\n",
    "            if last_name in txn_desc:\n",
    "                score = 90  # Base score for last name match\n",
    "                \n",
    "                # Boost score if first name matches too\n",
    "                if first_name in txn_desc:\n",
    "                    score += 10\n",
    "                \n",
    "                # Extra boost for paid_up_member status\n",
    "                if member['membership_status'].lower() == 'paid_up_member':\n",
    "                    score += 50\n",
    "                \n",
    "                if score > best_score:\n",
    "                    best_score = score\n",
    "                    best_match = member\n",
    "        \n",
    "        return best_match\n",
    "\n",
    "# Create global matcher instance\n",
    "member_matcher = MemberMatcher()\n",
    "\n",
    "print(\"✅ Utility and matching functions cell completed OK\")"
   ]
  },
  {
   "cell_type": "code",
   "execution_count": 3,
   "id": "fcdc7058",
   "metadata": {},
   "outputs": [
    {
     "name": "stdout",
     "output_type": "stream",
     "text": [
      "Testing clean_amount function:\n",
      "  100 -> 100\n",
      "  R100 -> 100\n",
      "  R 100.00 -> 100.00\n",
      "  100,50 -> 10050\n",
      "  R100,50 -> 10050\n",
      "  None -> 0.00\n",
      "   -> 0.00\n"
     ]
    }
   ],
   "source": [
    "from decimal import Decimal\n",
    "def clean_amount(amount_str):\n",
    "    \"\"\"\n",
    "    Convert string amount to Decimal, handling different formats\n",
    "    \n",
    "    Parameters:\n",
    "    -----------\n",
    "    amount_str : str, int, or float\n",
    "        The amount value to clean\n",
    "        \n",
    "    Returns:\n",
    "    --------\n",
    "    Decimal\n",
    "        The cleaned amount as a Decimal value\n",
    "    \"\"\"\n",
    "    if isinstance(amount_str, (int, float)):\n",
    "        return Decimal(str(amount_str))\n",
    "    \n",
    "    if pd.isna(amount_str) or not amount_str:\n",
    "        return Decimal('0.00')\n",
    "    \n",
    "    # Remove currency symbols, spaces, and commas\n",
    "    cleaned = re.sub(r'[R\\s,]', '', str(amount_str))\n",
    "    \n",
    "    try:\n",
    "        return Decimal(cleaned)\n",
    "    except:\n",
    "        print(f\"Warning: Could not convert '{amount_str}' to decimal. Using 0.00\")\n",
    "        return Decimal('0.00')\n",
    "\n",
    "\n",
    "def extract_potential_names(text):\n",
    "    \"\"\"\n",
    "    Extract potential names from transaction text\n",
    "    \n",
    "    Parameters:\n",
    "    -----------\n",
    "    text : str\n",
    "        The text to analyze for potential names\n",
    "        \n",
    "    Returns:\n",
    "    --------\n",
    "    list\n",
    "        List of potential name strings\n",
    "    \"\"\"\n",
    "    if pd.isna(text) or not text:\n",
    "        return []\n",
    "    \n",
    "    # Convert to string if it's not already\n",
    "    text = str(text)\n",
    "    \n",
    "    # Find potential names (uppercase words or words with initial capital)\n",
    "    potential_names = []\n",
    "    \n",
    "    # First, try to find common surname prefixes (van, de, etc.)\n",
    "    compound_matches = re.findall(r'\\b(?:van|de|du|der|den|la)\\s+[A-Z][a-z]+\\b', text, re.IGNORECASE)\n",
    "    potential_names.extend(compound_matches)\n",
    "    \n",
    "    # Match words that are likely names (start with capital letter, at least 3 chars)\n",
    "    name_matches = re.findall(r'\\b[A-Z][a-z]{2,}\\b', text)\n",
    "    potential_names.extend(name_matches)\n",
    "    \n",
    "    # Match all caps words that might be surnames\n",
    "    caps_matches = re.findall(r'\\b[A-Z]{3,}\\b', text)\n",
    "    potential_names.extend(caps_matches)\n",
    "    \n",
    "    return potential_names\n",
    "\n",
    "\n",
    "# Function to find a member by name\n",
    "def find_member_by_name(name):\n",
    "    matches = Member.objects.filter(\n",
    "        Q(last_name__iexact=name) | \n",
    "        Q(first_name__iexact=name) |\n",
    "        Q(last_name__istartswith=name) |\n",
    "        Q(first_name__istartswith=name)\n",
    "    )\n",
    "    \n",
    "    if matches.count() == 1:\n",
    "        return matches.first()\n",
    "    return None\n",
    "\n",
    "\n",
    "# Function to find a member by word\n",
    "def find_member_by_word(word):\n",
    "    if word.lower() in ['the', 'and', 'for', 'from', 'payment', 'transfer', 'fee', 'fees', 'member', 'membership']:\n",
    "        return None\n",
    "        \n",
    "    matches = Member.objects.filter(\n",
    "        Q(last_name__iexact=word) | \n",
    "        Q(first_name__iexact=word)\n",
    "    )\n",
    "    \n",
    "    if matches.count() == 1:\n",
    "        return matches.first()\n",
    "    return None\n",
    "\n",
    "\n",
    "def match_member(reference, description, amount):\n",
    "    \"\"\"\n",
    "    Try to match a bank transaction to a member\n",
    "    \n",
    "    Parameters:\n",
    "    -----------\n",
    "    reference : str\n",
    "        Transaction reference text\n",
    "    description : str\n",
    "        Transaction description text\n",
    "    amount : Decimal\n",
    "        Transaction amount\n",
    "        \n",
    "    Returns:\n",
    "    --------\n",
    "    Member or None\n",
    "        Member object if a match is found, None otherwise\n",
    "    \"\"\"\n",
    "    # Extract potential names\n",
    "    potential_names = []\n",
    "    \n",
    "    if reference:\n",
    "        potential_names.extend(extract_potential_names(reference))\n",
    "    \n",
    "    if description:\n",
    "        potential_names.extend(extract_potential_names(description))\n",
    "    \n",
    "    # Remove duplicates\n",
    "    potential_names = list(set(potential_names))\n",
    "    \n",
    "    # Try each potential name\n",
    "    for name in potential_names:\n",
    "        # Use threading to call the database function\n",
    "        member = run_in_thread(find_member_by_name, name)\n",
    "        if member:\n",
    "            return member\n",
    "    \n",
    "    # Try words in reference and description\n",
    "    for text in [reference, description]:\n",
    "        if not text:\n",
    "            continue\n",
    "            \n",
    "        # Extract words (3+ characters)\n",
    "        words = re.findall(r'\\b[A-Za-z]{3,}\\b', text)\n",
    "        \n",
    "        for word in words:\n",
    "            # Use threading to call the database function\n",
    "            member = run_in_thread(find_member_by_word, word)\n",
    "            if member:\n",
    "                return member\n",
    "    \n",
    "    # No match found\n",
    "    return None\n",
    "\n",
    "\n",
    "# Test the clean_amount function\n",
    "test_amounts = [100, \"R100\", \"R 100.00\", \"100,50\", \"R100,50\", None, \"\"]\n",
    "print(\"Testing clean_amount function:\")\n",
    "for amount in test_amounts:\n",
    "    print(f\"  {amount} -> {clean_amount(amount)}\")"
   ]
  },
  {
   "cell_type": "code",
   "execution_count": 6,
   "id": "ff750d64",
   "metadata": {},
   "outputs": [
    {
     "name": "stdout",
     "output_type": "stream",
     "text": [
      "\n",
      "=== Processing file: statement-08-240-533-6 20240828.xlsx ===\n",
      "✅ Loaded 61 rows from C:/Work/active_projects/web-based-membership-management-system\\data_input\\statement-08-240-533-6 20240828.xlsx\n",
      "✅ Found 52 potential payments (amount > 50.0)\n",
      "\n",
      "🔍 Sample data (first 5 rows):\n"
     ]
    },
    {
     "data": {
      "application/vnd.microsoft.datawrangler.viewer.v0+json": {
       "columns": [
        {
         "name": "index",
         "rawType": "int64",
         "type": "integer"
        },
        {
         "name": "Date",
         "rawType": "int64",
         "type": "integer"
        },
        {
         "name": "Amount",
         "rawType": "float64",
         "type": "float"
        },
        {
         "name": "Type",
         "rawType": "object",
         "type": "string"
        },
        {
         "name": "Description",
         "rawType": "object",
         "type": "string"
        }
       ],
       "ref": "669622e8-c76c-486a-812c-a5add719a513",
       "rows": [
        [
         "0",
         "20250131",
         "200.0",
         "IB PAYMENT FROM",
         "COGHO - OCTOBER 2023"
        ],
        [
         "6",
         "20250214",
         "100.0",
         "IB PAYMENT FROM",
         "DANIE SADIE"
        ],
        [
         "7",
         "20250214",
         "200.0",
         "IB PAYMENT FROM",
         "S BURGER FIRTREEPARK@CW"
        ],
        [
         "8",
         "20250214",
         "100.0",
         "IB PAYMENT FROM",
         "JACO & ELITA RICHTER"
        ],
        [
         "9",
         "20250214",
         "100.0",
         "CREDIT TRANSFER",
         "INVESTECPBLesleyJacobs"
        ]
       ],
       "shape": {
        "columns": 4,
        "rows": 5
       }
      },
      "text/html": [
       "<div>\n",
       "<style scoped>\n",
       "    .dataframe tbody tr th:only-of-type {\n",
       "        vertical-align: middle;\n",
       "    }\n",
       "\n",
       "    .dataframe tbody tr th {\n",
       "        vertical-align: top;\n",
       "    }\n",
       "\n",
       "    .dataframe thead th {\n",
       "        text-align: right;\n",
       "    }\n",
       "</style>\n",
       "<table border=\"1\" class=\"dataframe\">\n",
       "  <thead>\n",
       "    <tr style=\"text-align: right;\">\n",
       "      <th></th>\n",
       "      <th>Date</th>\n",
       "      <th>Amount</th>\n",
       "      <th>Type</th>\n",
       "      <th>Description</th>\n",
       "    </tr>\n",
       "  </thead>\n",
       "  <tbody>\n",
       "    <tr>\n",
       "      <th>0</th>\n",
       "      <td>20250131</td>\n",
       "      <td>200.0</td>\n",
       "      <td>IB PAYMENT FROM</td>\n",
       "      <td>COGHO - OCTOBER 2023</td>\n",
       "    </tr>\n",
       "    <tr>\n",
       "      <th>6</th>\n",
       "      <td>20250214</td>\n",
       "      <td>100.0</td>\n",
       "      <td>IB PAYMENT FROM</td>\n",
       "      <td>DANIE SADIE</td>\n",
       "    </tr>\n",
       "    <tr>\n",
       "      <th>7</th>\n",
       "      <td>20250214</td>\n",
       "      <td>200.0</td>\n",
       "      <td>IB PAYMENT FROM</td>\n",
       "      <td>S BURGER FIRTREEPARK@CW</td>\n",
       "    </tr>\n",
       "    <tr>\n",
       "      <th>8</th>\n",
       "      <td>20250214</td>\n",
       "      <td>100.0</td>\n",
       "      <td>IB PAYMENT FROM</td>\n",
       "      <td>JACO &amp; ELITA RICHTER</td>\n",
       "    </tr>\n",
       "    <tr>\n",
       "      <th>9</th>\n",
       "      <td>20250214</td>\n",
       "      <td>100.0</td>\n",
       "      <td>CREDIT TRANSFER</td>\n",
       "      <td>INVESTECPBLesleyJacobs</td>\n",
       "    </tr>\n",
       "  </tbody>\n",
       "</table>\n",
       "</div>"
      ],
      "text/plain": [
       "       Date  Amount             Type              Description\n",
       "0  20250131   200.0  IB PAYMENT FROM     COGHO - OCTOBER 2023\n",
       "6  20250214   100.0  IB PAYMENT FROM              DANIE SADIE\n",
       "7  20250214   200.0  IB PAYMENT FROM  S BURGER FIRTREEPARK@CW\n",
       "8  20250214   100.0  IB PAYMENT FROM     JACO & ELITA RICHTER\n",
       "9  20250214   100.0  CREDIT TRANSFER   INVESTECPBLesleyJacobs"
      ]
     },
     "metadata": {},
     "output_type": "display_data"
    },
    {
     "name": "stdout",
     "output_type": "stream",
     "text": [
      "\n",
      "📊 Basic statistics for amount column:\n"
     ]
    },
    {
     "data": {
      "application/vnd.microsoft.datawrangler.viewer.v0+json": {
       "columns": [
        {
         "name": "index",
         "rawType": "object",
         "type": "string"
        },
        {
         "name": "Amount",
         "rawType": "float64",
         "type": "float"
        }
       ],
       "ref": "b44b8470-be88-4d04-b4f9-3e9ff4fb01ec",
       "rows": [
        [
         "count",
         "52.0"
        ],
        [
         "mean",
         "305.39634615384614"
        ],
        [
         "std",
         "860.4611133094628"
        ],
        [
         "min",
         "100.0"
        ],
        [
         "25%",
         "100.0"
        ],
        [
         "50%",
         "100.0"
        ],
        [
         "75%",
         "200.0"
        ],
        [
         "max",
         "6180.61"
        ]
       ],
       "shape": {
        "columns": 1,
        "rows": 8
       }
      },
      "text/plain": [
       "count      52.000000\n",
       "mean      305.396346\n",
       "std       860.461113\n",
       "min       100.000000\n",
       "25%       100.000000\n",
       "50%       100.000000\n",
       "75%       200.000000\n",
       "max      6180.610000\n",
       "Name: Amount, dtype: float64"
      ]
     },
     "metadata": {},
     "output_type": "display_data"
    },
    {
     "name": "stdout",
     "output_type": "stream",
     "text": [
      "\n",
      "=== Processing file: statement-08-240-533-6 20250218.xlsx ===\n",
      "✅ Loaded 37 rows from C:/Work/active_projects/web-based-membership-management-system\\data_input\\statement-08-240-533-6 20250218.xlsx\n",
      "✅ Found 32 potential payments (amount > 50.0)\n",
      "\n",
      "🔍 Sample data (first 5 rows):\n"
     ]
    },
    {
     "data": {
      "application/vnd.microsoft.datawrangler.viewer.v0+json": {
       "columns": [
        {
         "name": "index",
         "rawType": "int64",
         "type": "integer"
        },
        {
         "name": "Date",
         "rawType": "int64",
         "type": "integer"
        },
        {
         "name": "Amount",
         "rawType": "float64",
         "type": "float"
        },
        {
         "name": "Type",
         "rawType": "object",
         "type": "string"
        },
        {
         "name": "Description",
         "rawType": "object",
         "type": "string"
        }
       ],
       "ref": "7a48ab49-a08b-4c4b-9356-b8a388215e6f",
       "rows": [
        [
         "0",
         "20250124",
         "250.0",
         "CREDIT TRANSFER",
         "ABSA BANK Membership&Donation"
        ],
        [
         "1",
         "20250127",
         "100.0",
         "MAGTAPE CREDIT",
         "ULANDA NEVELING"
        ],
        [
         "2",
         "20250131",
         "200.0",
         "IB PAYMENT FROM",
         "COGHO - OCTOBER 2023"
        ],
        [
         "8",
         "20250214",
         "100.0",
         "IB PAYMENT FROM",
         "DANIE SADIE"
        ],
        [
         "9",
         "20250214",
         "200.0",
         "IB PAYMENT FROM",
         "S BURGER FIRTREEPARK@CW"
        ]
       ],
       "shape": {
        "columns": 4,
        "rows": 5
       }
      },
      "text/html": [
       "<div>\n",
       "<style scoped>\n",
       "    .dataframe tbody tr th:only-of-type {\n",
       "        vertical-align: middle;\n",
       "    }\n",
       "\n",
       "    .dataframe tbody tr th {\n",
       "        vertical-align: top;\n",
       "    }\n",
       "\n",
       "    .dataframe thead th {\n",
       "        text-align: right;\n",
       "    }\n",
       "</style>\n",
       "<table border=\"1\" class=\"dataframe\">\n",
       "  <thead>\n",
       "    <tr style=\"text-align: right;\">\n",
       "      <th></th>\n",
       "      <th>Date</th>\n",
       "      <th>Amount</th>\n",
       "      <th>Type</th>\n",
       "      <th>Description</th>\n",
       "    </tr>\n",
       "  </thead>\n",
       "  <tbody>\n",
       "    <tr>\n",
       "      <th>0</th>\n",
       "      <td>20250124</td>\n",
       "      <td>250.0</td>\n",
       "      <td>CREDIT TRANSFER</td>\n",
       "      <td>ABSA BANK Membership&amp;Donation</td>\n",
       "    </tr>\n",
       "    <tr>\n",
       "      <th>1</th>\n",
       "      <td>20250127</td>\n",
       "      <td>100.0</td>\n",
       "      <td>MAGTAPE CREDIT</td>\n",
       "      <td>ULANDA NEVELING</td>\n",
       "    </tr>\n",
       "    <tr>\n",
       "      <th>2</th>\n",
       "      <td>20250131</td>\n",
       "      <td>200.0</td>\n",
       "      <td>IB PAYMENT FROM</td>\n",
       "      <td>COGHO - OCTOBER 2023</td>\n",
       "    </tr>\n",
       "    <tr>\n",
       "      <th>8</th>\n",
       "      <td>20250214</td>\n",
       "      <td>100.0</td>\n",
       "      <td>IB PAYMENT FROM</td>\n",
       "      <td>DANIE SADIE</td>\n",
       "    </tr>\n",
       "    <tr>\n",
       "      <th>9</th>\n",
       "      <td>20250214</td>\n",
       "      <td>200.0</td>\n",
       "      <td>IB PAYMENT FROM</td>\n",
       "      <td>S BURGER FIRTREEPARK@CW</td>\n",
       "    </tr>\n",
       "  </tbody>\n",
       "</table>\n",
       "</div>"
      ],
      "text/plain": [
       "       Date  Amount             Type                    Description\n",
       "0  20250124   250.0  CREDIT TRANSFER  ABSA BANK Membership&Donation\n",
       "1  20250127   100.0   MAGTAPE CREDIT                ULANDA NEVELING\n",
       "2  20250131   200.0  IB PAYMENT FROM           COGHO - OCTOBER 2023\n",
       "8  20250214   100.0  IB PAYMENT FROM                    DANIE SADIE\n",
       "9  20250214   200.0  IB PAYMENT FROM        S BURGER FIRTREEPARK@CW"
      ]
     },
     "metadata": {},
     "output_type": "display_data"
    },
    {
     "name": "stdout",
     "output_type": "stream",
     "text": [
      "\n",
      "📊 Basic statistics for amount column:\n"
     ]
    },
    {
     "data": {
      "application/vnd.microsoft.datawrangler.viewer.v0+json": {
       "columns": [
        {
         "name": "index",
         "rawType": "object",
         "type": "string"
        },
        {
         "name": "Amount",
         "rawType": "float64",
         "type": "float"
        }
       ],
       "ref": "f8d19b4f-6508-4731-9e55-5f78d1819f4b",
       "rows": [
        [
         "count",
         "32.0"
        ],
        [
         "mean",
         "505.3796875"
        ],
        [
         "std",
         "1662.4968058111137"
        ],
        [
         "min",
         "100.0"
        ],
        [
         "25%",
         "100.0"
        ],
        [
         "50%",
         "100.0"
        ],
        [
         "75%",
         "200.0"
        ],
        [
         "max",
         "9522.15"
        ]
       ],
       "shape": {
        "columns": 1,
        "rows": 8
       }
      },
      "text/plain": [
       "count      32.000000\n",
       "mean      505.379687\n",
       "std      1662.496806\n",
       "min       100.000000\n",
       "25%       100.000000\n",
       "50%       100.000000\n",
       "75%       200.000000\n",
       "max      9522.150000\n",
       "Name: Amount, dtype: float64"
      ]
     },
     "metadata": {},
     "output_type": "display_data"
    },
    {
     "name": "stdout",
     "output_type": "stream",
     "text": [
      "\n",
      "=== Processing file: statement-08-240-533-6 20250310.xlsx ===\n",
      "✅ Loaded 84 rows from C:/Work/active_projects/web-based-membership-management-system\\data_input\\statement-08-240-533-6 20250310.xlsx\n",
      "✅ Found 71 potential payments (amount > 50.0)\n",
      "\n",
      "🔍 Sample data (first 5 rows):\n"
     ]
    },
    {
     "data": {
      "application/vnd.microsoft.datawrangler.viewer.v0+json": {
       "columns": [
        {
         "name": "index",
         "rawType": "int64",
         "type": "integer"
        },
        {
         "name": "Date",
         "rawType": "int64",
         "type": "integer"
        },
        {
         "name": "Amount",
         "rawType": "float64",
         "type": "float"
        },
        {
         "name": "Type",
         "rawType": "object",
         "type": "string"
        },
        {
         "name": "Description",
         "rawType": "object",
         "type": "string"
        }
       ],
       "ref": "44daaa33-b263-437e-885c-9fa3f2e9eba9",
       "rows": [
        [
         "1",
         "20250214",
         "100.0",
         "IB PAYMENT FROM",
         "DANIE SADIE"
        ],
        [
         "2",
         "20250214",
         "200.0",
         "IB PAYMENT FROM",
         "S BURGER FIRTREEPARK@CW"
        ],
        [
         "3",
         "20250214",
         "100.0",
         "IB PAYMENT FROM",
         "JACO & ELITA RICHTER"
        ],
        [
         "4",
         "20250214",
         "100.0",
         "CREDIT TRANSFER",
         "INVESTECPBLesleyJacobs"
        ],
        [
         "5",
         "20250214",
         "100.0",
         "CREDIT TRANSFER",
         "INVESTECPBNelia 082 899 2248"
        ]
       ],
       "shape": {
        "columns": 4,
        "rows": 5
       }
      },
      "text/html": [
       "<div>\n",
       "<style scoped>\n",
       "    .dataframe tbody tr th:only-of-type {\n",
       "        vertical-align: middle;\n",
       "    }\n",
       "\n",
       "    .dataframe tbody tr th {\n",
       "        vertical-align: top;\n",
       "    }\n",
       "\n",
       "    .dataframe thead th {\n",
       "        text-align: right;\n",
       "    }\n",
       "</style>\n",
       "<table border=\"1\" class=\"dataframe\">\n",
       "  <thead>\n",
       "    <tr style=\"text-align: right;\">\n",
       "      <th></th>\n",
       "      <th>Date</th>\n",
       "      <th>Amount</th>\n",
       "      <th>Type</th>\n",
       "      <th>Description</th>\n",
       "    </tr>\n",
       "  </thead>\n",
       "  <tbody>\n",
       "    <tr>\n",
       "      <th>1</th>\n",
       "      <td>20250214</td>\n",
       "      <td>100.0</td>\n",
       "      <td>IB PAYMENT FROM</td>\n",
       "      <td>DANIE SADIE</td>\n",
       "    </tr>\n",
       "    <tr>\n",
       "      <th>2</th>\n",
       "      <td>20250214</td>\n",
       "      <td>200.0</td>\n",
       "      <td>IB PAYMENT FROM</td>\n",
       "      <td>S BURGER FIRTREEPARK@CW</td>\n",
       "    </tr>\n",
       "    <tr>\n",
       "      <th>3</th>\n",
       "      <td>20250214</td>\n",
       "      <td>100.0</td>\n",
       "      <td>IB PAYMENT FROM</td>\n",
       "      <td>JACO &amp; ELITA RICHTER</td>\n",
       "    </tr>\n",
       "    <tr>\n",
       "      <th>4</th>\n",
       "      <td>20250214</td>\n",
       "      <td>100.0</td>\n",
       "      <td>CREDIT TRANSFER</td>\n",
       "      <td>INVESTECPBLesleyJacobs</td>\n",
       "    </tr>\n",
       "    <tr>\n",
       "      <th>5</th>\n",
       "      <td>20250214</td>\n",
       "      <td>100.0</td>\n",
       "      <td>CREDIT TRANSFER</td>\n",
       "      <td>INVESTECPBNelia 082 899 2248</td>\n",
       "    </tr>\n",
       "  </tbody>\n",
       "</table>\n",
       "</div>"
      ],
      "text/plain": [
       "       Date  Amount             Type                   Description\n",
       "1  20250214   100.0  IB PAYMENT FROM                   DANIE SADIE\n",
       "2  20250214   200.0  IB PAYMENT FROM       S BURGER FIRTREEPARK@CW\n",
       "3  20250214   100.0  IB PAYMENT FROM          JACO & ELITA RICHTER\n",
       "4  20250214   100.0  CREDIT TRANSFER        INVESTECPBLesleyJacobs\n",
       "5  20250214   100.0  CREDIT TRANSFER  INVESTECPBNelia 082 899 2248"
      ]
     },
     "metadata": {},
     "output_type": "display_data"
    },
    {
     "name": "stdout",
     "output_type": "stream",
     "text": [
      "\n",
      "📊 Basic statistics for amount column:\n"
     ]
    },
    {
     "data": {
      "application/vnd.microsoft.datawrangler.viewer.v0+json": {
       "columns": [
        {
         "name": "index",
         "rawType": "object",
         "type": "string"
        },
        {
         "name": "Amount",
         "rawType": "float64",
         "type": "float"
        }
       ],
       "ref": "79c36952-d98e-435a-a1a8-ce6e9683df9c",
       "rows": [
        [
         "count",
         "71.0"
        ],
        [
         "mean",
         "476.0367605633803"
        ],
        [
         "std",
         "2363.868838868528"
        ],
        [
         "min",
         "100.0"
        ],
        [
         "25%",
         "100.0"
        ],
        [
         "50%",
         "100.0"
        ],
        [
         "75%",
         "200.0"
        ],
        [
         "max",
         "20000.0"
        ]
       ],
       "shape": {
        "columns": 1,
        "rows": 8
       }
      },
      "text/plain": [
       "count       71.000000\n",
       "mean       476.036761\n",
       "std       2363.868839\n",
       "min        100.000000\n",
       "25%        100.000000\n",
       "50%        100.000000\n",
       "75%        200.000000\n",
       "max      20000.000000\n",
       "Name: Amount, dtype: float64"
      ]
     },
     "metadata": {},
     "output_type": "display_data"
    },
    {
     "name": "stdout",
     "output_type": "stream",
     "text": [
      "\n",
      "=== Processing file: statement-08-240-533-6 20250317.xlsx ===\n",
      "✅ Loaded 24 rows from C:/Work/active_projects/web-based-membership-management-system\\data_input\\statement-08-240-533-6 20250317.xlsx\n",
      "✅ Found 19 potential payments (amount > 50.0)\n",
      "\n",
      "🔍 Sample data (first 5 rows):\n"
     ]
    },
    {
     "data": {
      "application/vnd.microsoft.datawrangler.viewer.v0+json": {
       "columns": [
        {
         "name": "index",
         "rawType": "int64",
         "type": "integer"
        },
        {
         "name": "Date",
         "rawType": "int64",
         "type": "integer"
        },
        {
         "name": "Amount",
         "rawType": "float64",
         "type": "float"
        },
        {
         "name": "Type",
         "rawType": "object",
         "type": "string"
        },
        {
         "name": "Description",
         "rawType": "object",
         "type": "string"
        }
       ],
       "ref": "30d8da28-d0a4-4980-8559-53155f7ce7fe",
       "rows": [
        [
         "0",
         "20250303",
         "200.0",
         "IB PAYMENT FROM",
         "BELLAMY"
        ],
        [
         "1",
         "20250303",
         "200.0",
         "MAGTAPE CREDIT",
         "EDITH LUKE MEMBER FE"
        ],
        [
         "2",
         "20250303",
         "100.0",
         "CREDIT TRANSFER",
         "ABSA BANK A Zietsman"
        ],
        [
         "3",
         "20250303",
         "100.0",
         "CREDIT TRANSFER",
         "ABSA BANK William Roberts"
        ],
        [
         "5",
         "20250304",
         "20000.0",
         "IB TRANSFER FROM",
         "cashflow"
        ]
       ],
       "shape": {
        "columns": 4,
        "rows": 5
       }
      },
      "text/html": [
       "<div>\n",
       "<style scoped>\n",
       "    .dataframe tbody tr th:only-of-type {\n",
       "        vertical-align: middle;\n",
       "    }\n",
       "\n",
       "    .dataframe tbody tr th {\n",
       "        vertical-align: top;\n",
       "    }\n",
       "\n",
       "    .dataframe thead th {\n",
       "        text-align: right;\n",
       "    }\n",
       "</style>\n",
       "<table border=\"1\" class=\"dataframe\">\n",
       "  <thead>\n",
       "    <tr style=\"text-align: right;\">\n",
       "      <th></th>\n",
       "      <th>Date</th>\n",
       "      <th>Amount</th>\n",
       "      <th>Type</th>\n",
       "      <th>Description</th>\n",
       "    </tr>\n",
       "  </thead>\n",
       "  <tbody>\n",
       "    <tr>\n",
       "      <th>0</th>\n",
       "      <td>20250303</td>\n",
       "      <td>200.0</td>\n",
       "      <td>IB PAYMENT FROM</td>\n",
       "      <td>BELLAMY</td>\n",
       "    </tr>\n",
       "    <tr>\n",
       "      <th>1</th>\n",
       "      <td>20250303</td>\n",
       "      <td>200.0</td>\n",
       "      <td>MAGTAPE CREDIT</td>\n",
       "      <td>EDITH LUKE MEMBER FE</td>\n",
       "    </tr>\n",
       "    <tr>\n",
       "      <th>2</th>\n",
       "      <td>20250303</td>\n",
       "      <td>100.0</td>\n",
       "      <td>CREDIT TRANSFER</td>\n",
       "      <td>ABSA BANK A Zietsman</td>\n",
       "    </tr>\n",
       "    <tr>\n",
       "      <th>3</th>\n",
       "      <td>20250303</td>\n",
       "      <td>100.0</td>\n",
       "      <td>CREDIT TRANSFER</td>\n",
       "      <td>ABSA BANK William Roberts</td>\n",
       "    </tr>\n",
       "    <tr>\n",
       "      <th>5</th>\n",
       "      <td>20250304</td>\n",
       "      <td>20000.0</td>\n",
       "      <td>IB TRANSFER FROM</td>\n",
       "      <td>cashflow</td>\n",
       "    </tr>\n",
       "  </tbody>\n",
       "</table>\n",
       "</div>"
      ],
      "text/plain": [
       "       Date   Amount              Type                Description\n",
       "0  20250303    200.0   IB PAYMENT FROM                    BELLAMY\n",
       "1  20250303    200.0    MAGTAPE CREDIT       EDITH LUKE MEMBER FE\n",
       "2  20250303    100.0   CREDIT TRANSFER       ABSA BANK A Zietsman\n",
       "3  20250303    100.0   CREDIT TRANSFER  ABSA BANK William Roberts\n",
       "5  20250304  20000.0  IB TRANSFER FROM                   cashflow"
      ]
     },
     "metadata": {},
     "output_type": "display_data"
    },
    {
     "name": "stdout",
     "output_type": "stream",
     "text": [
      "\n",
      "📊 Basic statistics for amount column:\n"
     ]
    },
    {
     "data": {
      "application/vnd.microsoft.datawrangler.viewer.v0+json": {
       "columns": [
        {
         "name": "index",
         "rawType": "object",
         "type": "string"
        },
        {
         "name": "Amount",
         "rawType": "float64",
         "type": "float"
        }
       ],
       "ref": "c4c7a897-40b8-4f83-aad9-63324504c13a",
       "rows": [
        [
         "count",
         "19.0"
        ],
        [
         "mean",
         "1267.99"
        ],
        [
         "std",
         "4552.364519395998"
        ],
        [
         "min",
         "100.0"
        ],
        [
         "25%",
         "100.0"
        ],
        [
         "50%",
         "100.0"
        ],
        [
         "75%",
         "200.0"
        ],
        [
         "max",
         "20000.0"
        ]
       ],
       "shape": {
        "columns": 1,
        "rows": 8
       }
      },
      "text/plain": [
       "count       19.000000\n",
       "mean      1267.990000\n",
       "std       4552.364519\n",
       "min        100.000000\n",
       "25%        100.000000\n",
       "50%        100.000000\n",
       "75%        200.000000\n",
       "max      20000.000000\n",
       "Name: Amount, dtype: float64"
      ]
     },
     "metadata": {},
     "output_type": "display_data"
    },
    {
     "name": "stdout",
     "output_type": "stream",
     "text": [
      "\n",
      "=== Processing file: statement-08-240-533-6 20250424.xlsx ===\n",
      "✅ Loaded 19 rows from C:/Work/active_projects/web-based-membership-management-system\\data_input\\statement-08-240-533-6 20250424.xlsx\n",
      "✅ Found 12 potential payments (amount > 50.0)\n",
      "\n",
      "🔍 Sample data (first 5 rows):\n"
     ]
    },
    {
     "data": {
      "application/vnd.microsoft.datawrangler.viewer.v0+json": {
       "columns": [
        {
         "name": "index",
         "rawType": "int64",
         "type": "integer"
        },
        {
         "name": "Date",
         "rawType": "int64",
         "type": "integer"
        },
        {
         "name": "Amount",
         "rawType": "float64",
         "type": "float"
        },
        {
         "name": "Type",
         "rawType": "object",
         "type": "string"
        },
        {
         "name": "Description",
         "rawType": "object",
         "type": "string"
        }
       ],
       "ref": "d3bac4fc-1962-405c-9906-53e7fef13fd9",
       "rows": [
        [
         "0",
         "20250328",
         "100.0",
         "REAL TIME TRANSFER FROM",
         "Alison ordinary1715831479"
        ],
        [
         "1",
         "20250328",
         "100.0",
         "CREDIT TRANSFER",
         "ABSA BANK W Kotze 0824537817"
        ],
        [
         "2",
         "20250331",
         "100.0",
         "IB PAYMENT FROM",
         "BRIGITTE ERDMANN"
        ],
        [
         "3",
         "20250331",
         "100.0",
         "CREDIT TRANSFER",
         "ABSA BANK Dirk Nel. Member fee"
        ],
        [
         "6",
         "20250401",
         "100.0",
         "CREDIT TRANSFER",
         "ABSA BANK mike sanger"
        ]
       ],
       "shape": {
        "columns": 4,
        "rows": 5
       }
      },
      "text/html": [
       "<div>\n",
       "<style scoped>\n",
       "    .dataframe tbody tr th:only-of-type {\n",
       "        vertical-align: middle;\n",
       "    }\n",
       "\n",
       "    .dataframe tbody tr th {\n",
       "        vertical-align: top;\n",
       "    }\n",
       "\n",
       "    .dataframe thead th {\n",
       "        text-align: right;\n",
       "    }\n",
       "</style>\n",
       "<table border=\"1\" class=\"dataframe\">\n",
       "  <thead>\n",
       "    <tr style=\"text-align: right;\">\n",
       "      <th></th>\n",
       "      <th>Date</th>\n",
       "      <th>Amount</th>\n",
       "      <th>Type</th>\n",
       "      <th>Description</th>\n",
       "    </tr>\n",
       "  </thead>\n",
       "  <tbody>\n",
       "    <tr>\n",
       "      <th>0</th>\n",
       "      <td>20250328</td>\n",
       "      <td>100.0</td>\n",
       "      <td>REAL TIME TRANSFER FROM</td>\n",
       "      <td>Alison ordinary1715831479</td>\n",
       "    </tr>\n",
       "    <tr>\n",
       "      <th>1</th>\n",
       "      <td>20250328</td>\n",
       "      <td>100.0</td>\n",
       "      <td>CREDIT TRANSFER</td>\n",
       "      <td>ABSA BANK W Kotze 0824537817</td>\n",
       "    </tr>\n",
       "    <tr>\n",
       "      <th>2</th>\n",
       "      <td>20250331</td>\n",
       "      <td>100.0</td>\n",
       "      <td>IB PAYMENT FROM</td>\n",
       "      <td>BRIGITTE ERDMANN</td>\n",
       "    </tr>\n",
       "    <tr>\n",
       "      <th>3</th>\n",
       "      <td>20250331</td>\n",
       "      <td>100.0</td>\n",
       "      <td>CREDIT TRANSFER</td>\n",
       "      <td>ABSA BANK Dirk Nel. Member fee</td>\n",
       "    </tr>\n",
       "    <tr>\n",
       "      <th>6</th>\n",
       "      <td>20250401</td>\n",
       "      <td>100.0</td>\n",
       "      <td>CREDIT TRANSFER</td>\n",
       "      <td>ABSA BANK mike sanger</td>\n",
       "    </tr>\n",
       "  </tbody>\n",
       "</table>\n",
       "</div>"
      ],
      "text/plain": [
       "       Date  Amount                     Type                     Description\n",
       "0  20250328   100.0  REAL TIME TRANSFER FROM       Alison ordinary1715831479\n",
       "1  20250328   100.0          CREDIT TRANSFER    ABSA BANK W Kotze 0824537817\n",
       "2  20250331   100.0          IB PAYMENT FROM                BRIGITTE ERDMANN\n",
       "3  20250331   100.0          CREDIT TRANSFER  ABSA BANK Dirk Nel. Member fee\n",
       "6  20250401   100.0          CREDIT TRANSFER           ABSA BANK mike sanger"
      ]
     },
     "metadata": {},
     "output_type": "display_data"
    },
    {
     "name": "stdout",
     "output_type": "stream",
     "text": [
      "\n",
      "📊 Basic statistics for amount column:\n"
     ]
    },
    {
     "data": {
      "application/vnd.microsoft.datawrangler.viewer.v0+json": {
       "columns": [
        {
         "name": "index",
         "rawType": "object",
         "type": "string"
        },
        {
         "name": "Amount",
         "rawType": "float64",
         "type": "float"
        }
       ],
       "ref": "ec07b405-64a1-40b5-bbf1-1d70ae402743",
       "rows": [
        [
         "count",
         "12.0"
        ],
        [
         "mean",
         "1366.955"
        ],
        [
         "std",
         "2973.6261351374906"
        ],
        [
         "min",
         "100.0"
        ],
        [
         "25%",
         "100.0"
        ],
        [
         "50%",
         "100.0"
        ],
        [
         "75%",
         "475.0"
        ],
        [
         "max",
         "10000.0"
        ]
       ],
       "shape": {
        "columns": 1,
        "rows": 8
       }
      },
      "text/plain": [
       "count       12.000000\n",
       "mean      1366.955000\n",
       "std       2973.626135\n",
       "min        100.000000\n",
       "25%        100.000000\n",
       "50%        100.000000\n",
       "75%        475.000000\n",
       "max      10000.000000\n",
       "Name: Amount, dtype: float64"
      ]
     },
     "metadata": {},
     "output_type": "display_data"
    },
    {
     "name": "stdout",
     "output_type": "stream",
     "text": [
      "\n",
      "=== Processing file: statement-08-240-533-6 20250704.xlsx ===\n",
      "✅ Loaded 11 rows from C:/Work/active_projects/web-based-membership-management-system\\data_input\\statement-08-240-533-6 20250704.xlsx\n",
      "✅ Found 3 potential payments (amount > 50.0)\n",
      "\n",
      "🔍 Sample data (first 5 rows):\n"
     ]
    },
    {
     "data": {
      "application/vnd.microsoft.datawrangler.viewer.v0+json": {
       "columns": [
        {
         "name": "index",
         "rawType": "int64",
         "type": "integer"
        },
        {
         "name": "Date",
         "rawType": "int64",
         "type": "integer"
        },
        {
         "name": "Amount",
         "rawType": "float64",
         "type": "float"
        },
        {
         "name": "Type",
         "rawType": "object",
         "type": "string"
        },
        {
         "name": "Description",
         "rawType": "object",
         "type": "unknown"
        }
       ],
       "ref": "9657d2b2-d4b2-4eed-a092-c27eb9fa47b3",
       "rows": [
        [
         "0",
         "20250506",
         "250.0",
         "CREDIT TRANSFER",
         "Donation Auram SA R Prag"
        ],
        [
         "2",
         "20250531",
         "300.0",
         "CREDIT TRANSFER",
         "DONATION"
        ],
        [
         "10",
         "0",
         "2315.26",
         "CLOSE BALANCE",
         null
        ]
       ],
       "shape": {
        "columns": 4,
        "rows": 3
       }
      },
      "text/html": [
       "<div>\n",
       "<style scoped>\n",
       "    .dataframe tbody tr th:only-of-type {\n",
       "        vertical-align: middle;\n",
       "    }\n",
       "\n",
       "    .dataframe tbody tr th {\n",
       "        vertical-align: top;\n",
       "    }\n",
       "\n",
       "    .dataframe thead th {\n",
       "        text-align: right;\n",
       "    }\n",
       "</style>\n",
       "<table border=\"1\" class=\"dataframe\">\n",
       "  <thead>\n",
       "    <tr style=\"text-align: right;\">\n",
       "      <th></th>\n",
       "      <th>Date</th>\n",
       "      <th>Amount</th>\n",
       "      <th>Type</th>\n",
       "      <th>Description</th>\n",
       "    </tr>\n",
       "  </thead>\n",
       "  <tbody>\n",
       "    <tr>\n",
       "      <th>0</th>\n",
       "      <td>20250506</td>\n",
       "      <td>250.00</td>\n",
       "      <td>CREDIT TRANSFER</td>\n",
       "      <td>Donation Auram SA R Prag</td>\n",
       "    </tr>\n",
       "    <tr>\n",
       "      <th>2</th>\n",
       "      <td>20250531</td>\n",
       "      <td>300.00</td>\n",
       "      <td>CREDIT TRANSFER</td>\n",
       "      <td>DONATION</td>\n",
       "    </tr>\n",
       "    <tr>\n",
       "      <th>10</th>\n",
       "      <td>0</td>\n",
       "      <td>2315.26</td>\n",
       "      <td>CLOSE BALANCE</td>\n",
       "      <td>NaN</td>\n",
       "    </tr>\n",
       "  </tbody>\n",
       "</table>\n",
       "</div>"
      ],
      "text/plain": [
       "        Date   Amount             Type               Description\n",
       "0   20250506   250.00  CREDIT TRANSFER  Donation Auram SA R Prag\n",
       "2   20250531   300.00  CREDIT TRANSFER                  DONATION\n",
       "10         0  2315.26    CLOSE BALANCE                       NaN"
      ]
     },
     "metadata": {},
     "output_type": "display_data"
    },
    {
     "name": "stdout",
     "output_type": "stream",
     "text": [
      "\n",
      "📊 Basic statistics for amount column:\n"
     ]
    },
    {
     "data": {
      "application/vnd.microsoft.datawrangler.viewer.v0+json": {
       "columns": [
        {
         "name": "index",
         "rawType": "object",
         "type": "string"
        },
        {
         "name": "Amount",
         "rawType": "float64",
         "type": "float"
        }
       ],
       "ref": "7ebb6414-ac43-4f23-bcbb-2083632b1081",
       "rows": [
        [
         "count",
         "3.0"
        ],
        [
         "mean",
         "955.0866666666667"
        ],
        [
         "std",
         "1178.2099229480855"
        ],
        [
         "min",
         "250.0"
        ],
        [
         "25%",
         "275.0"
        ],
        [
         "50%",
         "300.0"
        ],
        [
         "75%",
         "1307.63"
        ],
        [
         "max",
         "2315.26"
        ]
       ],
       "shape": {
        "columns": 1,
        "rows": 8
       }
      },
      "text/plain": [
       "count       3.000000\n",
       "mean      955.086667\n",
       "std      1178.209923\n",
       "min       250.000000\n",
       "25%       275.000000\n",
       "50%       300.000000\n",
       "75%      1307.630000\n",
       "max      2315.260000\n",
       "Name: Amount, dtype: float64"
      ]
     },
     "metadata": {},
     "output_type": "display_data"
    },
    {
     "name": "stdout",
     "output_type": "stream",
     "text": [
      "\n",
      "=== Processing file: statement-08-240-533-6 20250725.xlsx ===\n",
      "✅ Loaded 4 rows from C:/Work/active_projects/web-based-membership-management-system\\data_input\\statement-08-240-533-6 20250725.xlsx\n",
      "✅ Found 4 potential payments (amount > 50.0)\n",
      "\n",
      "🔍 Sample data (first 5 rows):\n"
     ]
    },
    {
     "data": {
      "application/vnd.microsoft.datawrangler.viewer.v0+json": {
       "columns": [
        {
         "name": "index",
         "rawType": "int64",
         "type": "integer"
        },
        {
         "name": "Date",
         "rawType": "int64",
         "type": "integer"
        },
        {
         "name": "Amount",
         "rawType": "float64",
         "type": "float"
        },
        {
         "name": "Type",
         "rawType": "object",
         "type": "string"
        },
        {
         "name": "Description",
         "rawType": "object",
         "type": "unknown"
        }
       ],
       "ref": "d942bf3a-3f0d-47f8-b8df-c3b6b31c5100",
       "rows": [
        [
         "0",
         "20250714",
         "100.0",
         "IB PAYMENT FROM",
         "PIETER LE ROUX ORD. M.SHI"
        ],
        [
         "1",
         "20250714",
         "100.0",
         "IB PAYMENT FROM",
         "DAVID WIGHTMAN 44 MAIN RD"
        ],
        [
         "2",
         "20250714",
         "100.0",
         "CREDIT TRANSFER",
         "ABSA BANK mike sanger"
        ],
        [
         "3",
         "0",
         "5946.66",
         "CLOSE BALANCE",
         null
        ]
       ],
       "shape": {
        "columns": 4,
        "rows": 4
       }
      },
      "text/html": [
       "<div>\n",
       "<style scoped>\n",
       "    .dataframe tbody tr th:only-of-type {\n",
       "        vertical-align: middle;\n",
       "    }\n",
       "\n",
       "    .dataframe tbody tr th {\n",
       "        vertical-align: top;\n",
       "    }\n",
       "\n",
       "    .dataframe thead th {\n",
       "        text-align: right;\n",
       "    }\n",
       "</style>\n",
       "<table border=\"1\" class=\"dataframe\">\n",
       "  <thead>\n",
       "    <tr style=\"text-align: right;\">\n",
       "      <th></th>\n",
       "      <th>Date</th>\n",
       "      <th>Amount</th>\n",
       "      <th>Type</th>\n",
       "      <th>Description</th>\n",
       "    </tr>\n",
       "  </thead>\n",
       "  <tbody>\n",
       "    <tr>\n",
       "      <th>0</th>\n",
       "      <td>20250714</td>\n",
       "      <td>100.00</td>\n",
       "      <td>IB PAYMENT FROM</td>\n",
       "      <td>PIETER LE ROUX ORD. M.SHI</td>\n",
       "    </tr>\n",
       "    <tr>\n",
       "      <th>1</th>\n",
       "      <td>20250714</td>\n",
       "      <td>100.00</td>\n",
       "      <td>IB PAYMENT FROM</td>\n",
       "      <td>DAVID WIGHTMAN 44 MAIN RD</td>\n",
       "    </tr>\n",
       "    <tr>\n",
       "      <th>2</th>\n",
       "      <td>20250714</td>\n",
       "      <td>100.00</td>\n",
       "      <td>CREDIT TRANSFER</td>\n",
       "      <td>ABSA BANK mike sanger</td>\n",
       "    </tr>\n",
       "    <tr>\n",
       "      <th>3</th>\n",
       "      <td>0</td>\n",
       "      <td>5946.66</td>\n",
       "      <td>CLOSE BALANCE</td>\n",
       "      <td>NaN</td>\n",
       "    </tr>\n",
       "  </tbody>\n",
       "</table>\n",
       "</div>"
      ],
      "text/plain": [
       "       Date   Amount             Type                Description\n",
       "0  20250714   100.00  IB PAYMENT FROM  PIETER LE ROUX ORD. M.SHI\n",
       "1  20250714   100.00  IB PAYMENT FROM  DAVID WIGHTMAN 44 MAIN RD\n",
       "2  20250714   100.00  CREDIT TRANSFER      ABSA BANK mike sanger\n",
       "3         0  5946.66    CLOSE BALANCE                        NaN"
      ]
     },
     "metadata": {},
     "output_type": "display_data"
    },
    {
     "name": "stdout",
     "output_type": "stream",
     "text": [
      "\n",
      "📊 Basic statistics for amount column:\n"
     ]
    },
    {
     "data": {
      "application/vnd.microsoft.datawrangler.viewer.v0+json": {
       "columns": [
        {
         "name": "index",
         "rawType": "object",
         "type": "string"
        },
        {
         "name": "Amount",
         "rawType": "float64",
         "type": "float"
        }
       ],
       "ref": "a19bab6a-6c99-4b1d-b6a6-287f78263ca3",
       "rows": [
        [
         "count",
         "4.0"
        ],
        [
         "mean",
         "1561.665"
        ],
        [
         "std",
         "2923.33"
        ],
        [
         "min",
         "100.0"
        ],
        [
         "25%",
         "100.0"
        ],
        [
         "50%",
         "100.0"
        ],
        [
         "75%",
         "1561.665"
        ],
        [
         "max",
         "5946.66"
        ]
       ],
       "shape": {
        "columns": 1,
        "rows": 8
       }
      },
      "text/plain": [
       "count       4.000\n",
       "mean     1561.665\n",
       "std      2923.330\n",
       "min       100.000\n",
       "25%       100.000\n",
       "50%       100.000\n",
       "75%      1561.665\n",
       "max      5946.660\n",
       "Name: Amount, dtype: float64"
      ]
     },
     "metadata": {},
     "output_type": "display_data"
    }
   ],
   "source": [
    "# Load and validate all Excel files matching the pattern in the data_input folder\n",
    "import os\n",
    "import glob\n",
    "import pandas as pd\n",
    "from IPython.display import display\n",
    "\n",
    "# Pattern for all statement files\n",
    "input_dir = os.path.join(project_dir, 'data_input')\n",
    "file_pattern = os.path.join(input_dir, 'statement-08-240-533-6*.xlsx')\n",
    "files = glob.glob(file_pattern)\n",
    "\n",
    "if not files:\n",
    "    print(f\"❌ No files found matching pattern: {file_pattern}\")\n",
    "else:\n",
    "    for file_path in files:\n",
    "        print(f\"\\n=== Processing file: {os.path.basename(file_path)} ===\")\n",
    "        try:\n",
    "            # Read data from B4:F (skip C), no headers, assign custom column names\n",
    "            df = pd.read_excel(\n",
    "                file_path,\n",
    "                header=None,\n",
    "                usecols=\"B,D,E,F\",\n",
    "                skiprows=3,  # skip first 3 rows, so row 4 is first\n",
    "                engine='openpyxl'\n",
    "            )\n",
    "            df.columns = ['Date', 'Amount', 'Type', 'Description']\n",
    "            print(f\"✅ Loaded {len(df)} rows from {file_path}\")\n",
    "            # Drop duplicate rows\n",
    "            before = len(df)\n",
    "            df = df.drop_duplicates()\n",
    "            after = len(df)\n",
    "            if after < before:\n",
    "                print(f\"🗑️ Removed {before - after} duplicate rows. {after} rows remain.\")\n",
    "            # Filter to only include positive amounts if amount_col is set\n",
    "            payments_df = df[df['Amount'] >= min_amount].copy()\n",
    "            print(f\"✅ Found {len(payments_df)} potential payments (amount > {min_amount})\")\n",
    "            print(\"\\n🔍 Sample data (first 5 rows):\")\n",
    "            display(payments_df.head())\n",
    "            print(\"\\n📊 Basic statistics for amount column:\")\n",
    "            display(payments_df['Amount'].describe())\n",
    "        except Exception as e:\n",
    "            print(f\"❌ Error loading or validating file: {e}\")"
   ]
  },
  {
   "cell_type": "code",
   "execution_count": 8,
   "id": "5d8254c8",
   "metadata": {},
   "outputs": [
    {
     "name": "stdout",
     "output_type": "stream",
     "text": [
      "✅ Combined 240 records from 7 files.\n",
      "✅ Exported combined DataFrame to: C:/Work/active_projects/web-based-membership-management-system\\data_output\\combined_bank_records_20250808_091247.xlsx\n"
     ]
    },
    {
     "data": {
      "application/vnd.microsoft.datawrangler.viewer.v0+json": {
       "columns": [
        {
         "name": "index",
         "rawType": "int64",
         "type": "integer"
        },
        {
         "name": "Date",
         "rawType": "int64",
         "type": "integer"
        },
        {
         "name": "Amount",
         "rawType": "float64",
         "type": "float"
        },
        {
         "name": "Type",
         "rawType": "object",
         "type": "string"
        },
        {
         "name": "Description",
         "rawType": "object",
         "type": "unknown"
        }
       ],
       "ref": "d6c62202-0166-4970-a842-7f0416c4e255",
       "rows": [
        [
         "0",
         "20250131",
         "200.0",
         "IB PAYMENT FROM",
         "COGHO - OCTOBER 2023"
        ],
        [
         "1",
         "20250131",
         "-46.7",
         "SERVICE FEE",
         null
        ],
        [
         "2",
         "20250131",
         "-95.0",
         "MONTHLY MANAGEMENT FEE",
         null
        ],
        [
         "3",
         "20250203",
         "-149.0",
         "ACCOUNT PAYMENT",
         "MULTID FORXNEELO      85541122"
        ],
        [
         "4",
         "20250205",
         "-1044.3",
         "IB PAYMENT TO",
         "BEN TROMP ONDERHOUD"
        ]
       ],
       "shape": {
        "columns": 4,
        "rows": 5
       }
      },
      "text/html": [
       "<div>\n",
       "<style scoped>\n",
       "    .dataframe tbody tr th:only-of-type {\n",
       "        vertical-align: middle;\n",
       "    }\n",
       "\n",
       "    .dataframe tbody tr th {\n",
       "        vertical-align: top;\n",
       "    }\n",
       "\n",
       "    .dataframe thead th {\n",
       "        text-align: right;\n",
       "    }\n",
       "</style>\n",
       "<table border=\"1\" class=\"dataframe\">\n",
       "  <thead>\n",
       "    <tr style=\"text-align: right;\">\n",
       "      <th></th>\n",
       "      <th>Date</th>\n",
       "      <th>Amount</th>\n",
       "      <th>Type</th>\n",
       "      <th>Description</th>\n",
       "    </tr>\n",
       "  </thead>\n",
       "  <tbody>\n",
       "    <tr>\n",
       "      <th>0</th>\n",
       "      <td>20250131</td>\n",
       "      <td>200.0</td>\n",
       "      <td>IB PAYMENT FROM</td>\n",
       "      <td>COGHO - OCTOBER 2023</td>\n",
       "    </tr>\n",
       "    <tr>\n",
       "      <th>1</th>\n",
       "      <td>20250131</td>\n",
       "      <td>-46.7</td>\n",
       "      <td>SERVICE FEE</td>\n",
       "      <td>NaN</td>\n",
       "    </tr>\n",
       "    <tr>\n",
       "      <th>2</th>\n",
       "      <td>20250131</td>\n",
       "      <td>-95.0</td>\n",
       "      <td>MONTHLY MANAGEMENT FEE</td>\n",
       "      <td>NaN</td>\n",
       "    </tr>\n",
       "    <tr>\n",
       "      <th>3</th>\n",
       "      <td>20250203</td>\n",
       "      <td>-149.0</td>\n",
       "      <td>ACCOUNT PAYMENT</td>\n",
       "      <td>MULTID FORXNEELO      85541122</td>\n",
       "    </tr>\n",
       "    <tr>\n",
       "      <th>4</th>\n",
       "      <td>20250205</td>\n",
       "      <td>-1044.3</td>\n",
       "      <td>IB PAYMENT TO</td>\n",
       "      <td>BEN TROMP ONDERHOUD</td>\n",
       "    </tr>\n",
       "  </tbody>\n",
       "</table>\n",
       "</div>"
      ],
      "text/plain": [
       "       Date  Amount                    Type                     Description\n",
       "0  20250131   200.0         IB PAYMENT FROM            COGHO - OCTOBER 2023\n",
       "1  20250131   -46.7             SERVICE FEE                             NaN\n",
       "2  20250131   -95.0  MONTHLY MANAGEMENT FEE                             NaN\n",
       "3  20250203  -149.0         ACCOUNT PAYMENT  MULTID FORXNEELO      85541122\n",
       "4  20250205 -1044.3           IB PAYMENT TO             BEN TROMP ONDERHOUD"
      ]
     },
     "metadata": {},
     "output_type": "display_data"
    },
    {
     "name": "stdout",
     "output_type": "stream",
     "text": [
      "✅ Opened file: C:/Work/active_projects/web-based-membership-management-system\\data_output\\combined_bank_records_20250808_091247.xlsx\n"
     ]
    }
   ],
   "source": [
    "# Combine all statement records, clean data, and export to Excel with timestamp, then open the file\n",
    "import os\n",
    "import glob\n",
    "import pandas as pd\n",
    "from datetime import datetime\n",
    "import platform\n",
    "\n",
    "input_dir = os.path.join(project_dir, 'data_input')\n",
    "file_pattern = os.path.join(input_dir, 'statement-08-240-533-6*.xlsx')\n",
    "files = glob.glob(file_pattern)\n",
    "\n",
    "all_records = []\n",
    "for file_path in files:\n",
    "    try:\n",
    "        df = pd.read_excel(\n",
    "            file_path,\n",
    "            header=None,\n",
    "            usecols=\"B,D,E,F\",\n",
    "            skiprows=3,\n",
    "            engine='openpyxl'\n",
    "        )\n",
    "        df.columns = ['Date', 'Amount', 'Type', 'Description']\n",
    "        all_records.append(df)\n",
    "    except Exception as e:\n",
    "        print(f\"❌ Error loading {file_path}: {e}\")\n",
    "\n",
    "if all_records:\n",
    "    combined_df = pd.concat(all_records, ignore_index=True)\n",
    "    print(f\"✅ Combined {len(combined_df)} records from {len(files)} files.\")\n",
    "    # Data cleanup: remove Amount < 0 and Date == 0\n",
    "    before_cleanup = len(combined_df)\n",
    "    combined_df = combined_df[combined_df['Amount'] >= 0]\n",
    "    combined_df = combined_df[combined_df['Date'] != 0]\n",
    "    after_cleanup = len(combined_df)\n",
    "    print(f\"🧹 Removed {before_cleanup - after_cleanup} records with Amount < 0 or Date == 0. {after_cleanup} records remain.\")\n",
    "    # Export to Excel with timestamp\n",
    "    timestamp = datetime.now().strftime('%Y%m%d_%H%M%S')\n",
    "    output_dir = os.path.join(project_dir, 'data_output')\n",
    "    os.makedirs(output_dir, exist_ok=True)\n",
    "    output_path = os.path.join(output_dir, f'combined_bank_records_{timestamp}.xlsx')\n",
    "    combined_df.to_excel(output_path, index=False)\n",
    "    print(f\"✅ Exported cleaned DataFrame to: {output_path}\")\n",
    "    display(combined_df.head())\n",
    "    # Automatically open the file after export\n",
    "    try:\n",
    "        if platform.system() == 'Windows':\n",
    "            os.startfile(output_path)\n",
    "        elif platform.system() == 'Darwin':\n",
    "            os.system(f'open \"{output_path}\"')\n",
    "        else:\n",
    "            os.system(f'xdg-open \"{output_path}\"')\n",
    "        print(f\"✅ Opened file: {output_path}\")\n",
    "    except Exception as e:\n",
    "        print(f\"⚠️ Could not open file automatically: {e}\")\n",
    "else:\n",
    "    print(\"❌ No records to combine and export.\")"
   ]
  }
 ],
 "metadata": {
  "kernelspec": {
   "display_name": ".venv",
   "language": "python",
   "name": "python3"
  },
  "language_info": {
   "codemirror_mode": {
    "name": "ipython",
    "version": 3
   },
   "file_extension": ".py",
   "mimetype": "text/x-python",
   "name": "python",
   "nbconvert_exporter": "python",
   "pygments_lexer": "ipython3",
   "version": "3.10.2"
  }
 },
 "nbformat": 4,
 "nbformat_minor": 5
}
